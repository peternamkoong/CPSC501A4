{
  "nbformat": 4,
  "nbformat_minor": 0,
  "metadata": {
    "colab": {
      "name": "MNISTStarter.ipynb",
      "provenance": [],
      "collapsed_sections": []
    },
    "kernelspec": {
      "name": "python3",
      "display_name": "Python 3"
    }
  },
  "cells": [
    {
      "cell_type": "code",
      "metadata": {
        "id": "m4eZDEIAx0aH",
        "colab_type": "code",
        "colab": {
          "base_uri": "https://localhost:8080/",
          "height": 34
        },
        "outputId": "526cd9d7-97b5-40e1-b755-3ca2dd865eb0"
      },
      "source": [
        "try:\n",
        "  # %tensorflow_version only exists in Colab.\n",
        "  %tensorflow_version 2.x\n",
        "except Exception:\n",
        "  pass"
      ],
      "execution_count": 1,
      "outputs": [
        {
          "output_type": "stream",
          "text": [
            "TensorFlow 2.x selected.\n"
          ],
          "name": "stdout"
        }
      ]
    },
    {
      "cell_type": "code",
      "metadata": {
        "id": "ITCcIDcJx02Q",
        "colab_type": "code",
        "outputId": "3a376529-1e6e-4b15-ef5f-1c8ca715734b",
        "colab": {
          "base_uri": "https://localhost:8080/",
          "height": 595
        }
      },
      "source": [
        "import tensorflow as tf\n",
        "\n",
        "print(\"--Get data--\")\n",
        "mnist = tf.keras.datasets.mnist\n",
        "(x_train, y_train), (x_test, y_test) = mnist.load_data()\n",
        "\n",
        "print(\"--Process data--\")\n",
        "x_train, x_test = x_train / 255.0, x_test / 255.0\n",
        "\n",
        "print(\"--Make model--\")\n",
        "model = tf.keras.models.Sequential([\n",
        "  tf.keras.layers.Flatten(input_shape=(28, 28)),\n",
        "  tf.keras.layers.Dense(512, activation='relu'),\n",
        "  tf.keras.layers.Dense(128, activation='relu'),\n",
        "  tf.keras.layers.Dropout(0.1),\n",
        "  tf.keras.layers.Dense(10, activation='softmax')\n",
        "])\n",
        "model.compile(optimizer='adam', loss='sparse_categorical_crossentropy', metrics=['accuracy'])\n",
        "\n",
        "print(\"--Fit model--\")\n",
        "model.fit(x_train, y_train, epochs=10, verbose=2)\n",
        "\n",
        "print(\"--Evaluate model--\")\n",
        "print(\"--Train--\")\n",
        "model_loss, model_acc = model.evaluate(x_train,  y_train, verbose=2)\n",
        "print(f\"Model Loss:    {model_loss:.2f}\")\n",
        "print(f\"Model Accuray: {model_acc*100:.1f}%\")\n",
        "print(\"--test--\")\n",
        "model_loss, model_acc = model.evaluate(x_test,  y_test, verbose=2)\n",
        "print(f\"Model Loss:    {model_loss:.2f}\")\n",
        "print(f\"Model Accuray: {model_acc*100:.1f}%\")"
      ],
      "execution_count": 7,
      "outputs": [
        {
          "output_type": "stream",
          "text": [
            "--Get data--\n",
            "--Process data--\n",
            "--Make model--\n",
            "--Fit model--\n",
            "Train on 60000 samples\n",
            "Epoch 1/10\n",
            "60000/60000 - 11s - loss: 0.2010 - accuracy: 0.9387\n",
            "Epoch 2/10\n",
            "60000/60000 - 10s - loss: 0.0857 - accuracy: 0.9738\n",
            "Epoch 3/10\n",
            "60000/60000 - 11s - loss: 0.0584 - accuracy: 0.9816\n",
            "Epoch 4/10\n",
            "60000/60000 - 10s - loss: 0.0458 - accuracy: 0.9853\n",
            "Epoch 5/10\n",
            "60000/60000 - 11s - loss: 0.0345 - accuracy: 0.9892\n",
            "Epoch 6/10\n",
            "60000/60000 - 11s - loss: 0.0288 - accuracy: 0.9909\n",
            "Epoch 7/10\n",
            "60000/60000 - 10s - loss: 0.0238 - accuracy: 0.9921\n",
            "Epoch 8/10\n",
            "60000/60000 - 10s - loss: 0.0221 - accuracy: 0.9929\n",
            "Epoch 9/10\n",
            "60000/60000 - 10s - loss: 0.0194 - accuracy: 0.9936\n",
            "Epoch 10/10\n",
            "60000/60000 - 11s - loss: 0.0159 - accuracy: 0.9949\n",
            "--Evaluate model--\n",
            "--Train--\n",
            "60000/1 - 4s - loss: 0.0044 - accuracy: 0.9969\n",
            "Model Loss:    0.01\n",
            "Model Accuray: 99.7%\n",
            "--test--\n",
            "10000/1 - 1s - loss: 0.0435 - accuracy: 0.9810\n",
            "Model Loss:    0.09\n",
            "Model Accuray: 98.1%\n"
          ],
          "name": "stdout"
        }
      ]
    },
    {
      "cell_type": "code",
      "metadata": {
        "id": "uqKuNbSJEaWc",
        "colab_type": "code",
        "colab": {}
      },
      "source": [
        "model.save('MNIST.h5')"
      ],
      "execution_count": 0,
      "outputs": []
    },
    {
      "cell_type": "code",
      "metadata": {
        "id": "0Vc4ePZwERJW",
        "colab_type": "code",
        "colab": {}
      },
      "source": [
        "from google.colab import files\n",
        "files.download('MNIST.h5')"
      ],
      "execution_count": 0,
      "outputs": []
    }
  ]
}