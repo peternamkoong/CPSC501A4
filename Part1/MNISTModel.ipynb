{
  "nbformat": 4,
  "nbformat_minor": 0,
  "metadata": {
    "colab": {
      "name": "MNISTModel.ipynb",
      "provenance": [],
      "collapsed_sections": []
    },
    "kernelspec": {
      "name": "python3",
      "display_name": "Python 3"
    }
  },
  "cells": [
    {
      "cell_type": "code",
      "metadata": {
        "id": "m4eZDEIAx0aH",
        "colab_type": "code",
        "colab": {}
      },
      "source": [
        "try:\n",
        "  # %tensorflow_version only exists in Colab.\n",
        "  %tensorflow_version 2.x\n",
        "except Exception:\n",
        "  pass"
      ],
      "execution_count": 0,
      "outputs": []
    },
    {
      "cell_type": "code",
      "metadata": {
        "id": "ITCcIDcJx02Q",
        "colab_type": "code",
        "outputId": "3dcc8514-6b01-4bba-f112-7900d2211bf0",
        "colab": {
          "base_uri": "https://localhost:8080/",
          "height": 629
        }
      },
      "source": [
        "import tensorflow as tf\n",
        "\n",
        "print(\"--Get data--\")\n",
        "mnist = tf.keras.datasets.mnist\n",
        "(x_train, y_train), (x_test, y_test) = mnist.load_data()\n",
        "\n",
        "print(\"--Process data--\")\n",
        "x_train, x_test = x_train / 255.0, x_test / 255.0\n",
        "\n",
        "print(\"--Make model--\")\n",
        "model = tf.keras.models.Sequential([\n",
        "  tf.keras.layers.Flatten(input_shape=(28, 28)),\n",
        "  tf.keras.layers.Dense(512, activation='relu'),\n",
        "  tf.keras.layers.Dense(128, activation='relu'),\n",
        "  tf.keras.layers.Dropout(0.1),\n",
        "  tf.keras.layers.Dense(10, activation='softmax')\n",
        "])\n",
        "model.compile(optimizer='adam', loss='sparse_categorical_crossentropy', metrics=['accuracy'])\n",
        "\n",
        "print(\"--Fit model--\")\n",
        "model.fit(x_train, y_train, epochs=10, verbose=2)\n",
        "\n",
        "print(\"--Evaluate model--\")\n",
        "print(\"--Train--\")\n",
        "model_loss, model_acc = model.evaluate(x_train,  y_train, verbose=2)\n",
        "print(f\"Model Loss:    {model_loss:.2f}\")\n",
        "print(f\"Model Accuray: {model_acc*100:.1f}%\")\n",
        "print(\"--test--\")\n",
        "model_loss, model_acc = model.evaluate(x_test,  y_test, verbose=2)\n",
        "print(f\"Model Loss:    {model_loss:.2f}\")\n",
        "print(f\"Model Accuray: {model_acc*100:.1f}%\")"
      ],
      "execution_count": 41,
      "outputs": [
        {
          "output_type": "stream",
          "text": [
            "--Get data--\n",
            "--Process data--\n",
            "--Make model--\n",
            "--Fit model--\n",
            "Train on 60000 samples\n",
            "Epoch 1/10\n",
            "60000/60000 - 9s - loss: 0.1974 - accuracy: 0.9407\n",
            "Epoch 2/10\n",
            "60000/60000 - 8s - loss: 0.0839 - accuracy: 0.9744\n",
            "Epoch 3/10\n",
            "60000/60000 - 8s - loss: 0.0592 - accuracy: 0.9814\n",
            "Epoch 4/10\n",
            "60000/60000 - 8s - loss: 0.0440 - accuracy: 0.9854\n",
            "Epoch 5/10\n",
            "60000/60000 - 8s - loss: 0.0343 - accuracy: 0.9886\n",
            "Epoch 6/10\n",
            "60000/60000 - 8s - loss: 0.0290 - accuracy: 0.9902\n",
            "Epoch 7/10\n",
            "60000/60000 - 8s - loss: 0.0248 - accuracy: 0.9919\n",
            "Epoch 8/10\n",
            "60000/60000 - 8s - loss: 0.0216 - accuracy: 0.9931\n",
            "Epoch 9/10\n",
            "60000/60000 - 8s - loss: 0.0186 - accuracy: 0.9942\n",
            "Epoch 10/10\n",
            "60000/60000 - 8s - loss: 0.0192 - accuracy: 0.9938\n",
            "--Evaluate model--\n",
            "--Train--\n",
            "60000/1 - 4s - loss: 0.0037 - accuracy: 0.9980\n",
            "Model Loss:    0.01\n",
            "Model Accuray: 99.8%\n",
            "--test--\n",
            "10000/1 - 1s - loss: 0.0391 - accuracy: 0.9821\n",
            "Model Loss:    0.08\n",
            "Model Accuray: 98.2%\n"
          ],
          "name": "stdout"
        }
      ]
    },
    {
      "cell_type": "code",
      "metadata": {
        "id": "uqKuNbSJEaWc",
        "colab_type": "code",
        "colab": {}
      },
      "source": [
        "model.save('MNIST.h5')"
      ],
      "execution_count": 0,
      "outputs": []
    },
    {
      "cell_type": "code",
      "metadata": {
        "id": "0Vc4ePZwERJW",
        "colab_type": "code",
        "colab": {}
      },
      "source": [
        "from google.colab import files\n",
        "files.download('MNIST.h5')"
      ],
      "execution_count": 0,
      "outputs": []
    }
  ]
}